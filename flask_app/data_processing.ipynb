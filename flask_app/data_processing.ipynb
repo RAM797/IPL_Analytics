{
 "cells": [
  {
   "cell_type": "code",
   "execution_count": 1,
   "metadata": {},
   "outputs": [],
   "source": [
    "import pandas as pd\n",
    "import numpy as np"
   ]
  },
  {
   "cell_type": "code",
   "execution_count": 2,
   "metadata": {},
   "outputs": [],
   "source": [
    "ball2ball = pd.read_csv('~/Downloads/ipl_ball_by_ball_2008_2022.csv')"
   ]
  },
  {
   "cell_type": "code",
   "execution_count": 3,
   "metadata": {},
   "outputs": [
    {
     "data": {
      "text/plain": [
       "Index(['id', 'innings', 'overs', 'ball_number', 'batter', 'bowler',\n",
       "       'non_striker', 'extra_type', 'batsman_run', 'extras_run', 'total_run',\n",
       "       'non_boundary', 'iswicket_delivery', 'player_out', 'dismisal_kind',\n",
       "       'fielders_involved', 'batting_team'],\n",
       "      dtype='object')"
      ]
     },
     "execution_count": 3,
     "metadata": {},
     "output_type": "execute_result"
    }
   ],
   "source": [
    "ball2ball.columns"
   ]
  },
  {
   "cell_type": "code",
   "execution_count": 4,
   "metadata": {},
   "outputs": [],
   "source": [
    "matches = pd.read_csv('~/Downloads/ipl_matches_2008_2022.csv')"
   ]
  },
  {
   "cell_type": "code",
   "execution_count": 5,
   "metadata": {},
   "outputs": [
    {
     "data": {
      "text/plain": [
       "Index(['id', 'city', 'match_date', 'season', 'match_number', 'team1', 'team2',\n",
       "       'venue', 'toss_winner', 'toss_decision', 'superover', 'winning_team',\n",
       "       'won_by', 'margin', 'method', 'player_of_match', 'umpire1', 'umpire2'],\n",
       "      dtype='object')"
      ]
     },
     "execution_count": 5,
     "metadata": {},
     "output_type": "execute_result"
    }
   ],
   "source": [
    "matches.columns"
   ]
  },
  {
   "cell_type": "code",
   "execution_count": 7,
   "metadata": {},
   "outputs": [],
   "source": [
    "matches = matches.dropna(subset = 'match_date')"
   ]
  },
  {
   "cell_type": "code",
   "execution_count": 16,
   "metadata": {},
   "outputs": [
    {
     "data": {
      "text/plain": [
       "950"
      ]
     },
     "execution_count": 16,
     "metadata": {},
     "output_type": "execute_result"
    }
   ],
   "source": []
  },
  {
   "cell_type": "code",
   "execution_count": 17,
   "metadata": {},
   "outputs": [],
   "source": [
    "import pandas as pd\n",
    "\n",
    "# Assuming your original DataFrame is named 'original_df'\n",
    "# Example:\n",
    "# original_df = pd.read_csv('your_csv_file.csv')\n",
    "\n",
    "# Create a new DataFrame with 'id' and 'year'\n",
    "new_df = matches[['id', 'match_date']].copy()\n",
    "\n",
    "# Convert 'match_date' to datetime format\n",
    "new_df['match_date'] = pd.to_datetime(new_df['match_date'], format='%d-%m-%Y')\n",
    "\n",
    "# Extract the year and create a new 'year' column\n",
    "new_df['year'] = new_df['match_date'].dt.year\n",
    "\n",
    "# Drop the 'match_date' column if you no longer need it\n",
    "new_df.drop('match_date', axis=1, inplace=True)\n",
    "\n",
    "# Print or use the new DataFrame 'new_df'\n",
    "ball2ball = pd.merge(new_df, ball2ball, on='id', how='inner')\n"
   ]
  },
  {
   "cell_type": "code",
   "execution_count": 20,
   "metadata": {},
   "outputs": [
    {
     "data": {
      "text/plain": [
       "array([nan, 'legbyes', 'wides', 'byes', 'noballs', 'penalty'],\n",
       "      dtype=object)"
      ]
     },
     "execution_count": 20,
     "metadata": {},
     "output_type": "execute_result"
    }
   ],
   "source": [
    "ball2ball['extra_type'].unique()"
   ]
  },
  {
   "cell_type": "code",
   "execution_count": 30,
   "metadata": {},
   "outputs": [],
   "source": [
    "from collections import defaultdict\n",
    "bowler_economy = {}\n",
    "for index, row in ball2ball.iterrows():\n",
    "    bowler = row['bowler']\n",
    "    year = row['year']\n",
    "    extra_type = row['extra_type']\n",
    "    total_run = row['total_run']\n",
    "    extras_run = row['extras_run']\n",
    "    if year not in bowler_economy:\n",
    "        bowler_economy[year] = {}\n",
    "    if bowler not in bowler_economy[year]:\n",
    "        bowler_economy[year][bowler] = {}\n",
    "        bowler_economy[year][bowler]['runs_conceeded'] = 0\n",
    "        bowler_economy[year][bowler]['balls_bowled'] = 0\n",
    "    bowler_economy[year][bowler]['runs_conceeded'] += total_run - extras_run if extra_type in ['byes','legbyes'] else total_run\n",
    "    bowler_economy[year][bowler]['balls_bowled'] += 1 if extra_type not in ['wides', 'noballs', 'penalty'] else 0\n",
    "            \n"
   ]
  },
  {
   "cell_type": "code",
   "execution_count": 32,
   "metadata": {},
   "outputs": [],
   "source": [
    "for year in bowler_economy:\n",
    "    for player in bowler_economy[year]:\n",
    "        bowler_economy[year][player]['economy'] = bowler_economy[year][player]['runs_conceeded'] * 6 / bowler_economy[year][player]['balls_bowled']"
   ]
  },
  {
   "cell_type": "code",
   "execution_count": 40,
   "metadata": {},
   "outputs": [
    {
     "data": {
      "text/plain": [
       "{2022: {'A Badoni': 5.5,\n",
       "  'SP Narine': 5.57,\n",
       "  'Mohsin Khan': 5.97,\n",
       "  'PH Solanki': 6.33,\n",
       "  'Tilak Varma': 6.5},\n",
       " 2021: {'Imran Tahir': 4.0,\n",
       "  'MC Henriques': 4.5,\n",
       "  'AK Markram': 5.75,\n",
       "  'N Rana': 6.0,\n",
       "  'Harpreet Brar': 6.04},\n",
       " 2020: {'Rashid Khan': 5.34,\n",
       "  'Mohammad Nabi': 5.75,\n",
       "  'Washington Sundar': 5.96,\n",
       "  'CH Gayle': 6.0,\n",
       "  'J Yadav': 6.14},\n",
       " 2019: {'S Dube': 4.8,\n",
       "  'AS Roy': 5.5,\n",
       "  'SK Raina': 6.0,\n",
       "  'STR Binny': 6.29,\n",
       "  'RA Jadeja': 6.35},\n",
       " 2018: {'IS Sodhi': 5.87,\n",
       "  'L Ngidi': 6.0,\n",
       "  'DJM Short': 6.33,\n",
       "  'Rashid Khan': 6.74,\n",
       "  'S Lamichhane': 6.83},\n",
       " 2017: {'NB Singh': 3.75,\n",
       "  'Mohammad Nabi': 5.27,\n",
       "  'R Tewatia': 5.44,\n",
       "  'Avesh Khan': 5.75,\n",
       "  'P Negi': 6.12},\n",
       " 2016: {'N Rana': 3.0,\n",
       "  'Sachin Baby': 4.8,\n",
       "  'MR Marsh': 5.0,\n",
       "  'YK Pathan': 5.5,\n",
       "  'JW Hastings': 5.55},\n",
       " 2015: {'RN ten Doeschate': 4.0,\n",
       "  'J Yadav': 4.14,\n",
       "  'V Kohli': 5.45,\n",
       "  'R Ashwin': 5.85,\n",
       "  'S Nadeem': 6.14},\n",
       " 2014: {'Ankit Sharma': 5.38,\n",
       "  'AR Patel': 6.14,\n",
       "  'R Rampaul': 6.17,\n",
       "  'SP Narine': 6.43,\n",
       "  'Harbhajan Singh': 6.47},\n",
       " 2013: {'AC Gilchrist': 0.0,\n",
       "  'BJ Hodge': 3.0,\n",
       "  'RG Sharma': 4.5,\n",
       "  'RV Gomez': 5.0,\n",
       "  'Anand Rajan': 5.25},\n",
       " 2012: {'L Balaji': 5.4,\n",
       "  'SP Narine': 5.48,\n",
       "  'AG Murtaza': 5.5,\n",
       "  'RE van der Merwe': 6.0,\n",
       "  'LR Shukla': 6.0},\n",
       " 2011: {'S Rana': 3.0,\n",
       "  'JP Faulkner': 4.5,\n",
       "  'AA Chavan': 5.4,\n",
       "  'R Sharma': 5.46,\n",
       "  'S Dhawan': 5.5},\n",
       " 2010: {'V Sehwag': 4.06,\n",
       "  'ND Doshi': 4.25,\n",
       "  'AJ Finch': 4.29,\n",
       "  'B Akhil': 6.0,\n",
       "  'R Ashwin': 6.1},\n",
       " 2009: {'R Ashwin': 3.25,\n",
       "  'CK Langeveldt': 3.75,\n",
       "  'RS Bopara': 3.75,\n",
       "  'AM Rahane': 5.0,\n",
       "  'M Muralitharan': 5.22},\n",
       " 2008: {'TM Dilshan': 3.0,\n",
       "  'DJ Thornely': 5.71,\n",
       "  'BAW Mendis': 6.0,\n",
       "  'RG Sharma': 6.25,\n",
       "  'SC Ganguly': 6.4}}"
      ]
     },
     "execution_count": 40,
     "metadata": {},
     "output_type": "execute_result"
    }
   ],
   "source": [
    "best_economies = {}\n",
    "for year in bowler_economy:\n",
    "    sorted_economies = sorted(bowler_economy[year], key = lambda x: bowler_economy[year][x]['economy'])\n",
    "    best5 = sorted_economies[0:5]\n",
    "    best_economies[year] = {player: round(bowler_economy[year][player]['economy'],2) for player in best5}\n",
    "    \n",
    "best_economies"
   ]
  },
  {
   "cell_type": "code",
   "execution_count": 45,
   "metadata": {},
   "outputs": [],
   "source": [
    "import pickle\n",
    "with open('best_economies.pkl','wb') as bef:\n",
    "    pickle.dump(best_economies,bef)"
   ]
  },
  {
   "cell_type": "code",
   "execution_count": 46,
   "metadata": {},
   "outputs": [
    {
     "data": {
      "text/plain": [
       "Index(['id', 'year', 'innings', 'overs', 'ball_number', 'batter', 'bowler',\n",
       "       'non_striker', 'extra_type', 'batsman_run', 'extras_run', 'total_run',\n",
       "       'non_boundary', 'iswicket_delivery', 'player_out', 'dismisal_kind',\n",
       "       'fielders_involved', 'batting_team'],\n",
       "      dtype='object')"
      ]
     },
     "execution_count": 46,
     "metadata": {},
     "output_type": "execute_result"
    }
   ],
   "source": [
    "ball2ball.columns"
   ]
  },
  {
   "cell_type": "code",
   "execution_count": 51,
   "metadata": {},
   "outputs": [
    {
     "name": "stdout",
     "output_type": "stream",
     "text": [
      "{2008: {'SE Marsh': 616, 'G Gambhir': 534, 'ST Jayasuriya': 514, 'SR Watson': 472, 'GC Smith': 441}, 2009: {'ML Hayden': 572, 'AC Gilchrist': 495, 'AB de Villiers': 465, 'SK Raina': 434, 'TM Dilshan': 418}, 2010: {'SR Tendulkar': 618, 'JH Kallis': 572, 'SK Raina': 528, 'SC Ganguly': 493, 'M Vijay': 458}, 2011: {'CH Gayle': 608, 'V Kohli': 557, 'SR Tendulkar': 553, 'SE Marsh': 504, 'MEK Hussey': 492}, 2012: {'CH Gayle': 733, 'G Gambhir': 590, 'S Dhawan': 569, 'AM Rahane': 560, 'V Sehwag': 495}, 2013: {'MEK Hussey': 733, 'CH Gayle': 720, 'V Kohli': 639, 'SK Raina': 548, 'SR Watson': 543}, 2014: {'RV Uthappa': 660, 'DR Smith': 566, 'GJ Maxwell': 552, 'DA Warner': 528, 'SK Raina': 523}, 2015: {'DA Warner': 562, 'AM Rahane': 540, 'LMP Simmons': 540, 'AB de Villiers': 513, 'V Kohli': 505}, 2016: {'V Kohli': 973, 'DA Warner': 848, 'AB de Villiers': 687, 'G Gambhir': 501, 'S Dhawan': 501}, 2017: {'DA Warner': 641, 'G Gambhir': 498, 'S Dhawan': 479, 'SPD Smith': 472, 'SK Raina': 442}, 2018: {'KS Williamson': 735, 'RR Pant': 684, 'KL Rahul': 659, 'AT Rayudu': 602, 'SR Watson': 555}, 2019: {'DA Warner': 692, 'KL Rahul': 593, 'Q de Kock': 529, 'S Dhawan': 521, 'AD Russell': 514}, 2020: {'KL Rahul': 676, 'S Dhawan': 618, 'DA Warner': 548, 'SS Iyer': 519, 'Ishan Kishan': 516}, 2021: {'RD Gaikwad': 635, 'F du Plessis': 633, 'KL Rahul': 626, 'S Dhawan': 587, 'GJ Maxwell': 513}, 2022: {'JC Buttler': 863, 'KL Rahul': 616, 'Q de Kock': 508, 'HH Pandya': 487, 'Shubman Gill': 483}}\n"
     ]
    }
   ],
   "source": [
    "grouped_df = ball2ball.groupby(['year', 'batter'])['batsman_run'].sum().reset_index()\n",
    "top_scorers_df = grouped_df.groupby('year').apply(lambda x: x.nlargest(5, 'batsman_run')).reset_index(drop=True)\n",
    "# Print or use the resulting DataFrame 'grouped_df'\n",
    "# top_scorers_dict = top_scorers_df.to_dict(orient='records')\n",
    "\n",
    "# Print or use the resulting dictionary 'top_scorers_dict'\n",
    "top_scorers_dict_2d = {}\n",
    "\n",
    "# Iterate through the rows of the DataFrame and populate the 2D dictionary\n",
    "for index, row in top_scorers_df.iterrows():\n",
    "    year = row['year']\n",
    "    batter = row['batter']\n",
    "    batsman_run = row['batsman_run']\n",
    "\n",
    "    # If the year is not in the dictionary, add it\n",
    "    if year not in top_scorers_dict_2d:\n",
    "        top_scorers_dict_2d[year] = {}\n",
    "\n",
    "    # Add the batter and batsman_run to the dictionary for the specific year\n",
    "    top_scorers_dict_2d[year][batter] = batsman_run\n",
    "\n",
    "# Print or use the resulting 2D dictionary 'top_scorers_dict_2d'\n",
    "print(top_scorers_dict_2d)\n",
    "with open('top_scorers.pkl','wb') as tf:\n",
    "    pickle.dump(top_scorers_dict_2d,tf)\n",
    "\n",
    "\n",
    "\n",
    "\n"
   ]
  },
  {
   "cell_type": "code",
   "execution_count": 52,
   "metadata": {},
   "outputs": [
    {
     "data": {
      "text/plain": [
       "Index(['id', 'year', 'innings', 'overs', 'ball_number', 'batter', 'bowler',\n",
       "       'non_striker', 'extra_type', 'batsman_run', 'extras_run', 'total_run',\n",
       "       'non_boundary', 'iswicket_delivery', 'player_out', 'dismisal_kind',\n",
       "       'fielders_involved', 'batting_team'],\n",
       "      dtype='object')"
      ]
     },
     "execution_count": 52,
     "metadata": {},
     "output_type": "execute_result"
    }
   ],
   "source": [
    "ball2ball.columns"
   ]
  },
  {
   "cell_type": "code",
   "execution_count": null,
   "metadata": {},
   "outputs": [],
   "source": []
  },
  {
   "cell_type": "code",
   "execution_count": 54,
   "metadata": {},
   "outputs": [
    {
     "data": {
      "text/html": [
       "<div>\n",
       "<style scoped>\n",
       "    .dataframe tbody tr th:only-of-type {\n",
       "        vertical-align: middle;\n",
       "    }\n",
       "\n",
       "    .dataframe tbody tr th {\n",
       "        vertical-align: top;\n",
       "    }\n",
       "\n",
       "    .dataframe thead th {\n",
       "        text-align: right;\n",
       "    }\n",
       "</style>\n",
       "<table border=\"1\" class=\"dataframe\">\n",
       "  <thead>\n",
       "    <tr style=\"text-align: right;\">\n",
       "      <th></th>\n",
       "      <th>year</th>\n",
       "      <th>bowler</th>\n",
       "      <th>iswicket_delivery</th>\n",
       "    </tr>\n",
       "  </thead>\n",
       "  <tbody>\n",
       "    <tr>\n",
       "      <th>0</th>\n",
       "      <td>2008</td>\n",
       "      <td>A Kumble</td>\n",
       "      <td>236</td>\n",
       "    </tr>\n",
       "    <tr>\n",
       "      <th>1</th>\n",
       "      <td>2008</td>\n",
       "      <td>A Mishra</td>\n",
       "      <td>123</td>\n",
       "    </tr>\n",
       "    <tr>\n",
       "      <th>2</th>\n",
       "      <td>2008</td>\n",
       "      <td>A Nehra</td>\n",
       "      <td>280</td>\n",
       "    </tr>\n",
       "    <tr>\n",
       "      <th>3</th>\n",
       "      <td>2008</td>\n",
       "      <td>A Nel</td>\n",
       "      <td>18</td>\n",
       "    </tr>\n",
       "    <tr>\n",
       "      <th>4</th>\n",
       "      <td>2008</td>\n",
       "      <td>A Symonds</td>\n",
       "      <td>44</td>\n",
       "    </tr>\n",
       "    <tr>\n",
       "      <th>...</th>\n",
       "      <td>...</td>\n",
       "      <td>...</td>\n",
       "      <td>...</td>\n",
       "    </tr>\n",
       "    <tr>\n",
       "      <th>1668</th>\n",
       "      <td>2022</td>\n",
       "      <td>VR Iyer</td>\n",
       "      <td>24</td>\n",
       "    </tr>\n",
       "    <tr>\n",
       "      <th>1669</th>\n",
       "      <td>2022</td>\n",
       "      <td>Washington Sundar</td>\n",
       "      <td>170</td>\n",
       "    </tr>\n",
       "    <tr>\n",
       "      <th>1670</th>\n",
       "      <td>2022</td>\n",
       "      <td>YBK Jaiswal</td>\n",
       "      <td>1</td>\n",
       "    </tr>\n",
       "    <tr>\n",
       "      <th>1671</th>\n",
       "      <td>2022</td>\n",
       "      <td>YS Chahal</td>\n",
       "      <td>429</td>\n",
       "    </tr>\n",
       "    <tr>\n",
       "      <th>1672</th>\n",
       "      <td>2022</td>\n",
       "      <td>Yash Dayal</td>\n",
       "      <td>205</td>\n",
       "    </tr>\n",
       "  </tbody>\n",
       "</table>\n",
       "<p>1673 rows × 3 columns</p>\n",
       "</div>"
      ],
      "text/plain": [
       "      year             bowler  iswicket_delivery\n",
       "0     2008           A Kumble                236\n",
       "1     2008           A Mishra                123\n",
       "2     2008            A Nehra                280\n",
       "3     2008              A Nel                 18\n",
       "4     2008          A Symonds                 44\n",
       "...    ...                ...                ...\n",
       "1668  2022            VR Iyer                 24\n",
       "1669  2022  Washington Sundar                170\n",
       "1670  2022        YBK Jaiswal                  1\n",
       "1671  2022          YS Chahal                429\n",
       "1672  2022         Yash Dayal                205\n",
       "\n",
       "[1673 rows x 3 columns]"
      ]
     },
     "execution_count": 54,
     "metadata": {},
     "output_type": "execute_result"
    }
   ],
   "source": [
    "grouped_df = ball2ball.groupby(['year', 'bowler'])['iswicket_delivery'].count().reset_index()\n",
    "grouped_df\n",
    "top_scorers_df = grouped_df.groupby('year').apply(lambda x: x.nlargest(5, 'iswicket_delivery')).reset_index(drop=True)\n",
    "# Print or use the resulting DataFrame 'grouped_df'\n",
    "# top_scorers_dict = top_scorers_df.to_dict(orient='records')\n",
    "\n",
    "# Print or use the resulting dictionary 'top_scorers_dict'\n",
    "top_scorers_dict_2d = {}\n",
    "\n",
    "# Iterate through the rows of the DataFrame and populate the 2D dictionary\n",
    "for index, row in top_scorers_df.iterrows():\n",
    "    year = row['year']\n",
    "    batter = row['bowler']\n",
    "    batsman_run = row['batsman_run']\n",
    "\n",
    "    # If the year is not in the dictionary, add it\n",
    "    if year not in top_scorers_dict_2d:\n",
    "        top_scorers_dict_2d[year] = {}\n",
    "\n",
    "    # Add the batter and batsman_run to the dictionary for the specific year\n",
    "    top_scorers_dict_2d[year][batter] = batsman_run\n",
    "\n",
    "# Print or use the resulting 2D dictionary 'top_scorers_dict_2d'\n",
    "print(top_scorers_dict_2d)\n",
    "with open('top_scorers.pkl','wb') as tf:\n",
    "    pickle.dump(top_scorers_dict_2d,tf)\n"
   ]
  }
 ],
 "metadata": {
  "kernelspec": {
   "display_name": "base",
   "language": "python",
   "name": "python3"
  },
  "language_info": {
   "codemirror_mode": {
    "name": "ipython",
    "version": 3
   },
   "file_extension": ".py",
   "mimetype": "text/x-python",
   "name": "python",
   "nbconvert_exporter": "python",
   "pygments_lexer": "ipython3",
   "version": "3.9.12"
  }
 },
 "nbformat": 4,
 "nbformat_minor": 2
}
