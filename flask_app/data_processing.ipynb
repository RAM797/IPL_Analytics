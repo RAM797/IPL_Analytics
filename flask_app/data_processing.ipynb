{
 "cells": [
  {
   "cell_type": "code",
   "execution_count": 107,
   "metadata": {},
   "outputs": [],
   "source": [
    "import pandas as pd\n",
    "import numpy as np\n",
    "import pickle"
   ]
  },
  {
   "cell_type": "code",
   "execution_count": 108,
   "metadata": {},
   "outputs": [],
   "source": [
    "ball2ball = pd.read_csv('../data/ipl_ball_by_ball_2008_2022.csv')"
   ]
  },
  {
   "cell_type": "code",
   "execution_count": 83,
   "metadata": {},
   "outputs": [
    {
     "data": {
      "text/plain": [
       "Index(['id', 'innings', 'overs', 'ball_number', 'batter', 'bowler',\n",
       "       'non_striker', 'extra_type', 'batsman_run', 'extras_run', 'total_run',\n",
       "       'non_boundary', 'iswicket_delivery', 'player_out', 'dismisal_kind',\n",
       "       'fielders_involved', 'batting_team'],\n",
       "      dtype='object')"
      ]
     },
     "execution_count": 83,
     "metadata": {},
     "output_type": "execute_result"
    }
   ],
   "source": [
    "ball2ball.columns"
   ]
  },
  {
   "cell_type": "code",
   "execution_count": 84,
   "metadata": {},
   "outputs": [],
   "source": [
    "matches = pd.read_csv('../data/ipl_matches_2008_2022.csv')"
   ]
  },
  {
   "cell_type": "code",
   "execution_count": 109,
   "metadata": {},
   "outputs": [
    {
     "data": {
      "text/plain": [
       "Index(['id', 'city', 'match_date', 'season', 'match_number', 'team1', 'team2',\n",
       "       'venue', 'toss_winner', 'toss_decision', 'superover', 'winning_team',\n",
       "       'won_by', 'margin', 'method', 'player_of_match', 'umpire1', 'umpire2'],\n",
       "      dtype='object')"
      ]
     },
     "execution_count": 109,
     "metadata": {},
     "output_type": "execute_result"
    }
   ],
   "source": [
    "matches.columns"
   ]
  },
  {
   "cell_type": "code",
   "execution_count": 86,
   "metadata": {},
   "outputs": [],
   "source": [
    "matches = matches.dropna(subset = 'match_date')"
   ]
  },
  {
   "cell_type": "code",
   "execution_count": null,
   "metadata": {},
   "outputs": [],
   "source": []
  },
  {
   "cell_type": "markdown",
   "metadata": {},
   "source": [
    "run this to add year column to ball2ball dataframe"
   ]
  },
  {
   "cell_type": "code",
   "execution_count": 87,
   "metadata": {},
   "outputs": [],
   "source": [
    "import pandas as pd\n",
    "\n",
    "# Assuming your original DataFrame is named 'original_df'\n",
    "# Example:\n",
    "# original_df = pd.read_csv('your_csv_file.csv')\n",
    "\n",
    "# Create a new DataFrame with 'id' and 'year'\n",
    "new_df = matches[['id', 'match_date']].copy()\n",
    "\n",
    "# Convert 'match_date' to datetime format\n",
    "new_df['match_date'] = pd.to_datetime(new_df['match_date'], format='%d-%m-%Y')\n",
    "\n",
    "# Extract the year and create a new 'year' column\n",
    "new_df['year'] = new_df['match_date'].dt.year\n",
    "\n",
    "# Drop the 'match_date' column if you no longer need it\n",
    "new_df.drop('match_date', axis=1, inplace=True)\n",
    "\n",
    "# Print or use the new DataFrame 'new_df'\n",
    "ball2ball = pd.merge(new_df, ball2ball, on='id', how='inner')\n"
   ]
  },
  {
   "cell_type": "code",
   "execution_count": 88,
   "metadata": {},
   "outputs": [
    {
     "data": {
      "text/plain": [
       "array([nan, 'legbyes', 'wides', 'byes', 'noballs', 'penalty'],\n",
       "      dtype=object)"
      ]
     },
     "execution_count": 88,
     "metadata": {},
     "output_type": "execute_result"
    }
   ],
   "source": [
    "ball2ball['extra_type'].unique()"
   ]
  },
  {
   "cell_type": "code",
   "execution_count": 89,
   "metadata": {},
   "outputs": [],
   "source": [
    "from collections import defaultdict\n",
    "bowler_stats = {}\n",
    "for index, row in ball2ball.iterrows():\n",
    "    bowler = row['bowler']\n",
    "    year = row['year']\n",
    "    extra_type = row['extra_type']\n",
    "    total_run = row['total_run']\n",
    "    extras_run = row['extras_run']\n",
    "    if year not in bowler_stats:\n",
    "        bowler_stats[year] = {}\n",
    "    if bowler not in bowler_stats[year]:\n",
    "        bowler_stats[year][bowler] = {}\n",
    "        bowler_stats[year][bowler]['runs_conceeded'] = 0\n",
    "        bowler_stats[year][bowler]['balls_bowled'] = 0\n",
    "    bowler_stats[year][bowler]['runs_conceeded'] += total_run - extras_run if extra_type in ['byes','legbyes'] else total_run\n",
    "    bowler_stats[year][bowler]['balls_bowled'] += 1 if extra_type not in ['wides', 'noballs', 'penalty'] else 0\n",
    "            \n"
   ]
  },
  {
   "cell_type": "code",
   "execution_count": 90,
   "metadata": {},
   "outputs": [],
   "source": [
    "bowler_economy = bowler_stats\n",
    "for year in bowler_economy:\n",
    "    for player in bowler_economy[year]:\n",
    "        bowler_economy[year][player]['economy'] = bowler_economy[year][player]['runs_conceeded'] * 6 / bowler_economy[year][player]['balls_bowled']"
   ]
  },
  {
   "cell_type": "code",
   "execution_count": null,
   "metadata": {},
   "outputs": [],
   "source": [
    "best_economies = {}\n",
    "for year in bowler_economy:\n",
    "    sorted_economies = sorted(bowler_economy[year], key = lambda x: bowler_economy[year][x]['economy'])\n",
    "    best5 = sorted_economies[0:5]\n",
    "    best_economies[year] = {player: round(bowler_economy[year][player]['economy'],2) for player in best5}\n",
    "    \n",
    "best_economies"
   ]
  },
  {
   "cell_type": "code",
   "execution_count": 92,
   "metadata": {},
   "outputs": [],
   "source": [
    "import pickle\n",
    "with open('best_economies.pkl','wb') as bef:\n",
    "    pickle.dump(best_economies,bef)"
   ]
  },
  {
   "cell_type": "code",
   "execution_count": 93,
   "metadata": {},
   "outputs": [
    {
     "data": {
      "text/plain": [
       "array([nan, 'caught', 'caught and bowled', 'run out', 'bowled', 'stumped',\n",
       "       'lbw', 'hit wicket', 'retired hurt', 'retired out',\n",
       "       'obstructing the field'], dtype=object)"
      ]
     },
     "execution_count": 93,
     "metadata": {},
     "output_type": "execute_result"
    }
   ],
   "source": [
    "ball2ball['dismisal_kind'].unique()"
   ]
  },
  {
   "cell_type": "code",
   "execution_count": 94,
   "metadata": {},
   "outputs": [
    {
     "name": "stdout",
     "output_type": "stream",
     "text": [
      "{2008: {'SE Marsh': 616, 'G Gambhir': 534, 'ST Jayasuriya': 514, 'SR Watson': 472, 'GC Smith': 441}, 2009: {'ML Hayden': 572, 'AC Gilchrist': 495, 'AB de Villiers': 465, 'SK Raina': 434, 'TM Dilshan': 418}, 2010: {'SR Tendulkar': 618, 'JH Kallis': 572, 'SK Raina': 528, 'SC Ganguly': 493, 'M Vijay': 458}, 2011: {'CH Gayle': 608, 'V Kohli': 557, 'SR Tendulkar': 553, 'SE Marsh': 504, 'MEK Hussey': 492}, 2012: {'CH Gayle': 733, 'G Gambhir': 590, 'S Dhawan': 569, 'AM Rahane': 560, 'V Sehwag': 495}, 2013: {'MEK Hussey': 733, 'CH Gayle': 720, 'V Kohli': 639, 'SK Raina': 548, 'SR Watson': 543}, 2014: {'RV Uthappa': 660, 'DR Smith': 566, 'GJ Maxwell': 552, 'DA Warner': 528, 'SK Raina': 523}, 2015: {'DA Warner': 562, 'AM Rahane': 540, 'LMP Simmons': 540, 'AB de Villiers': 513, 'V Kohli': 505}, 2016: {'V Kohli': 973, 'DA Warner': 848, 'AB de Villiers': 687, 'G Gambhir': 501, 'S Dhawan': 501}, 2017: {'DA Warner': 641, 'G Gambhir': 498, 'S Dhawan': 479, 'SPD Smith': 472, 'SK Raina': 442}, 2018: {'KS Williamson': 735, 'RR Pant': 684, 'KL Rahul': 659, 'AT Rayudu': 602, 'SR Watson': 555}, 2019: {'DA Warner': 692, 'KL Rahul': 593, 'Q de Kock': 529, 'S Dhawan': 521, 'AD Russell': 514}, 2020: {'KL Rahul': 676, 'S Dhawan': 618, 'DA Warner': 548, 'SS Iyer': 519, 'Ishan Kishan': 516}, 2021: {'RD Gaikwad': 635, 'F du Plessis': 633, 'KL Rahul': 626, 'S Dhawan': 587, 'GJ Maxwell': 513}, 2022: {'JC Buttler': 863, 'KL Rahul': 616, 'Q de Kock': 508, 'HH Pandya': 487, 'Shubman Gill': 483}}\n"
     ]
    }
   ],
   "source": [
    "grouped_df = ball2ball.groupby(['year', 'batter'])['batsman_run'].sum().reset_index()\n",
    "top_scorers_df = grouped_df.groupby('year').apply(lambda x: x.nlargest(5, 'batsman_run')).reset_index(drop=True)\n",
    "# Print or use the resulting DataFrame 'grouped_df'\n",
    "# top_scorers_dict = top_scorers_df.to_dict(orient='records')\n",
    "\n",
    "# Print or use the resulting dictionary 'top_scorers_dict'\n",
    "top_scorers_dict_2d = {}\n",
    "\n",
    "# Iterate through the rows of the DataFrame and populate the 2D dictionary\n",
    "for index, row in top_scorers_df.iterrows():\n",
    "    year = row['year']\n",
    "    batter = row['batter']\n",
    "    batsman_run = row['batsman_run']\n",
    "\n",
    "    # If the year is not in the dictionary, add it\n",
    "    if year not in top_scorers_dict_2d:\n",
    "        top_scorers_dict_2d[year] = {}\n",
    "\n",
    "    # Add the batter and batsman_run to the dictionary for the specific year\n",
    "    top_scorers_dict_2d[year][batter] = batsman_run\n",
    "\n",
    "# Print or use the resulting 2D dictionary 'top_scorers_dict_2d'\n",
    "print(top_scorers_dict_2d)\n",
    "with open('top_scorers.pkl','wb') as tf:\n",
    "    pickle.dump(top_scorers_dict_2d,tf)"
   ]
  },
  {
   "cell_type": "code",
   "execution_count": 95,
   "metadata": {},
   "outputs": [
    {
     "data": {
      "text/plain": [
       "Index(['id', 'year', 'innings', 'overs', 'ball_number', 'batter', 'bowler',\n",
       "       'non_striker', 'extra_type', 'batsman_run', 'extras_run', 'total_run',\n",
       "       'non_boundary', 'iswicket_delivery', 'player_out', 'dismisal_kind',\n",
       "       'fielders_involved', 'batting_team'],\n",
       "      dtype='object')"
      ]
     },
     "execution_count": 95,
     "metadata": {},
     "output_type": "execute_result"
    }
   ],
   "source": [
    "ball2ball.columns"
   ]
  },
  {
   "cell_type": "code",
   "execution_count": null,
   "metadata": {},
   "outputs": [],
   "source": []
  },
  {
   "cell_type": "code",
   "execution_count": null,
   "metadata": {},
   "outputs": [],
   "source": [
    "grouped_df = ball2ball.groupby(['year', 'bowler'])['iswicket_delivery'].count().reset_index()\n",
    "\n",
    "grouped_df\n",
    "top_scorers_df = grouped_df.groupby('year').apply(lambda x: x.nlargest(5, 'iswicket_delivery')).reset_index(drop=True)\n",
    "# Print or use the resulting DataFrame 'grouped_df'\n",
    "# top_scorers_dict = top_scorers_df.to_dict(orient='records')\n",
    "\n",
    "# Print or use the resulting dictionary 'top_scorers_dict'\n",
    "top_scorers_dict_2d = {}\n",
    "\n",
    "# Iterate through the rows of the DataFrame and populate the 2D dictionary\n",
    "for index, row in top_scorers_df.iterrows():\n",
    "    year = row['year']\n",
    "    batter = row['bowler']\n",
    "    batsman_run = row['batsman_run']\n",
    "\n",
    "    # If the year is not in the dictionary, add it\n",
    "    if year not in top_scorers_dict_2d:\n",
    "        top_scorers_dict_2d[year] = {}\n",
    "\n",
    "    # Add the batter and batsman_run to the dictionary for the specific year\n",
    "    top_scorers_dict_2d[year][batter] = batsman_run\n",
    "\n",
    "# Print or use the resulting 2D dictionary 'top_scorers_dict_2d'\n",
    "print(top_scorers_dict_2d)\n",
    "with open('top_scorers.pkl','wb') as tf:\n",
    "    pickle.dump(top_scorers_dict_2d,tf)\n"
   ]
  },
  {
   "cell_type": "code",
   "execution_count": null,
   "metadata": {},
   "outputs": [],
   "source": [
    "ge = open('../data/player_stats/top_bowlers_by_season_corrected_economy.pkl','rb')\n",
    "me = open('../data/player_stats/best_economies.pkl','rb')\n",
    "ce = open('../data/player_stats/top_bowlers_by_season_int_year.pkl','rb')\n",
    "gpt_economy = pickle.load(ge)\n",
    "my_economy = pickle.load(me)\n",
    "corrected_economy = pickle.load(ce)"
   ]
  },
  {
   "cell_type": "code",
   "execution_count": null,
   "metadata": {},
   "outputs": [
    {
     "data": {
      "text/plain": [
       "0         YBK Jaiswal\n",
       "1         YBK Jaiswal\n",
       "2          JC Buttler\n",
       "3         YBK Jaiswal\n",
       "4         YBK Jaiswal\n",
       "             ...     \n",
       "225949        P Kumar\n",
       "225950       SB Joshi\n",
       "225951        P Kumar\n",
       "225952       SB Joshi\n",
       "225953       SB Joshi\n",
       "Name: batter, Length: 225954, dtype: object"
      ]
     },
     "execution_count": 8,
     "metadata": {},
     "output_type": "execute_result"
    }
   ],
   "source": [
    "ball2ball['batter']"
   ]
  },
  {
   "cell_type": "code",
   "execution_count": null,
   "metadata": {},
   "outputs": [
    {
     "data": {
      "text/plain": [
       "Index(['id', 'year', 'innings', 'overs', 'ball_number', 'batter', 'bowler',\n",
       "       'non_striker', 'extra_type', 'batsman_run', 'extras_run', 'total_run',\n",
       "       'non_boundary', 'iswicket_delivery', 'player_out', 'dismisal_kind',\n",
       "       'fielders_involved', 'batting_team'],\n",
       "      dtype='object')"
      ]
     },
     "execution_count": 10,
     "metadata": {},
     "output_type": "execute_result"
    }
   ],
   "source": [
    "ball2ball.columns"
   ]
  },
  {
   "cell_type": "code",
   "execution_count": null,
   "metadata": {},
   "outputs": [
    {
     "data": {
      "text/plain": [
       "0         1\n",
       "1         1\n",
       "2         1\n",
       "3         1\n",
       "4         1\n",
       "         ..\n",
       "225949    2\n",
       "225950    2\n",
       "225951    2\n",
       "225952    2\n",
       "225953    2\n",
       "Name: innings, Length: 225954, dtype: int64"
      ]
     },
     "execution_count": 51,
     "metadata": {},
     "output_type": "execute_result"
    }
   ],
   "source": []
  },
  {
   "cell_type": "code",
   "execution_count": null,
   "metadata": {},
   "outputs": [],
   "source": [
    "outs = ball2ball[ball2ball['iswicket_delivery'] == 1].groupby(['year','player_out'])['iswicket_delivery'].count().reset_index()"
   ]
  },
  {
   "cell_type": "code",
   "execution_count": null,
   "metadata": {},
   "outputs": [
    {
     "data": {
      "text/html": [
       "<div>\n",
       "<style scoped>\n",
       "    .dataframe tbody tr th:only-of-type {\n",
       "        vertical-align: middle;\n",
       "    }\n",
       "\n",
       "    .dataframe tbody tr th {\n",
       "        vertical-align: top;\n",
       "    }\n",
       "\n",
       "    .dataframe thead th {\n",
       "        text-align: right;\n",
       "    }\n",
       "</style>\n",
       "<table border=\"1\" class=\"dataframe\">\n",
       "  <thead>\n",
       "    <tr style=\"text-align: right;\">\n",
       "      <th></th>\n",
       "      <th>year</th>\n",
       "      <th>batter</th>\n",
       "      <th>balls_faced</th>\n",
       "      <th>total_runs</th>\n",
       "    </tr>\n",
       "  </thead>\n",
       "  <tbody>\n",
       "    <tr>\n",
       "      <th>0</th>\n",
       "      <td>2008</td>\n",
       "      <td>A Chopra</td>\n",
       "      <td>55</td>\n",
       "      <td>42</td>\n",
       "    </tr>\n",
       "    <tr>\n",
       "      <th>1</th>\n",
       "      <td>2008</td>\n",
       "      <td>A Kumble</td>\n",
       "      <td>17</td>\n",
       "      <td>13</td>\n",
       "    </tr>\n",
       "    <tr>\n",
       "      <th>2</th>\n",
       "      <td>2008</td>\n",
       "      <td>A Mishra</td>\n",
       "      <td>42</td>\n",
       "      <td>37</td>\n",
       "    </tr>\n",
       "    <tr>\n",
       "      <th>3</th>\n",
       "      <td>2008</td>\n",
       "      <td>A Mukund</td>\n",
       "      <td>1</td>\n",
       "      <td>0</td>\n",
       "    </tr>\n",
       "    <tr>\n",
       "      <th>4</th>\n",
       "      <td>2008</td>\n",
       "      <td>A Nehra</td>\n",
       "      <td>13</td>\n",
       "      <td>3</td>\n",
       "    </tr>\n",
       "    <tr>\n",
       "      <th>...</th>\n",
       "      <td>...</td>\n",
       "      <td>...</td>\n",
       "      <td>...</td>\n",
       "      <td>...</td>\n",
       "    </tr>\n",
       "    <tr>\n",
       "      <th>2264</th>\n",
       "      <td>2022</td>\n",
       "      <td>WP Saha</td>\n",
       "      <td>266</td>\n",
       "      <td>317</td>\n",
       "    </tr>\n",
       "    <tr>\n",
       "      <th>2265</th>\n",
       "      <td>2022</td>\n",
       "      <td>Washington Sundar</td>\n",
       "      <td>76</td>\n",
       "      <td>101</td>\n",
       "    </tr>\n",
       "    <tr>\n",
       "      <th>2266</th>\n",
       "      <td>2022</td>\n",
       "      <td>YBK Jaiswal</td>\n",
       "      <td>198</td>\n",
       "      <td>258</td>\n",
       "    </tr>\n",
       "    <tr>\n",
       "      <th>2267</th>\n",
       "      <td>2022</td>\n",
       "      <td>YS Chahal</td>\n",
       "      <td>8</td>\n",
       "      <td>5</td>\n",
       "    </tr>\n",
       "    <tr>\n",
       "      <th>2268</th>\n",
       "      <td>2022</td>\n",
       "      <td>Yash Dayal</td>\n",
       "      <td>1</td>\n",
       "      <td>0</td>\n",
       "    </tr>\n",
       "  </tbody>\n",
       "</table>\n",
       "<p>2269 rows × 4 columns</p>\n",
       "</div>"
      ],
      "text/plain": [
       "      year             batter  balls_faced  total_runs\n",
       "0     2008           A Chopra           55          42\n",
       "1     2008           A Kumble           17          13\n",
       "2     2008           A Mishra           42          37\n",
       "3     2008           A Mukund            1           0\n",
       "4     2008            A Nehra           13           3\n",
       "...    ...                ...          ...         ...\n",
       "2264  2022            WP Saha          266         317\n",
       "2265  2022  Washington Sundar           76         101\n",
       "2266  2022        YBK Jaiswal          198         258\n",
       "2267  2022          YS Chahal            8           5\n",
       "2268  2022         Yash Dayal            1           0\n",
       "\n",
       "[2269 rows x 4 columns]"
      ]
     },
     "execution_count": 74,
     "metadata": {},
     "output_type": "execute_result"
    }
   ],
   "source": [
    "runs = ball2ball.groupby(['year', 'batter']).agg(\n",
    "    balls_faced =('batsman_run', 'size'),\n",
    "    total_runs =('batsman_run', 'sum')\n",
    ").reset_index()"
   ]
  },
  {
   "cell_type": "code",
   "execution_count": null,
   "metadata": {},
   "outputs": [],
   "source": [
    "result = pd.merge(runs, outs, left_on=['batter','year'], right_on=['player_out','year'], how='left')\n",
    "result = result.dropna(subset='iswicket_delivery')"
   ]
  },
  {
   "cell_type": "code",
   "execution_count": null,
   "metadata": {},
   "outputs": [],
   "source": [
    "result['batting_average'] = round(result['total_runs']/result['iswicket_delivery'],2)\n",
    "result['strike_rate'] = round(result['total_runs']/result['balls_faced'],2)*100\n",
    "result"
   ]
  },
  {
   "cell_type": "code",
   "execution_count": null,
   "metadata": {},
   "outputs": [],
   "source": [
    "def convert_group_to_dict(group):\n",
    "    return {row['batter']: {'runs': row['total_runs'], 'batting_average': row['batting_average'], 'strike_rate': row['strike_rate'], 'balls_faced': row['balls_faced']} for index, row in group.iterrows()}\n",
    "\n",
    "# Group by 'year' and convert each group into the required dictionary format\n",
    "result_dict = {year: convert_group_to_dict(group) for year, group in result.groupby('year')}"
   ]
  },
  {
   "cell_type": "code",
   "execution_count": 106,
   "metadata": {},
   "outputs": [],
   "source": [
    "pickle_file = '../data/player_stats/batsman_metrics.pkl'\n",
    "with open(pickle_file, 'wb') as file:\n",
    "    pickle.dump(result_dict, file)"
   ]
  },
  {
   "cell_type": "code",
   "execution_count": 47,
   "metadata": {},
   "outputs": [
    {
     "data": {
      "text/plain": [
       "array([nan, 'caught', 'caught and bowled', 'run out', 'bowled', 'stumped',\n",
       "       'lbw', 'hit wicket', 'retired hurt', 'retired out',\n",
       "       'obstructing the field'], dtype=object)"
      ]
     },
     "execution_count": 47,
     "metadata": {},
     "output_type": "execute_result"
    }
   ],
   "source": [
    "ball2ball['dismisal_kind'].unique()"
   ]
  },
  {
   "cell_type": "code",
   "execution_count": 99,
   "metadata": {},
   "outputs": [],
   "source": [
    "from collections import defaultdict\n",
    "bowler_stats = {}\n",
    "accepted = ['caught', 'caught and bowled', 'bowled', 'stumped','lbw', 'hit wicket']\n",
    "for index, row in ball2ball.iterrows():\n",
    "    bowler = row['bowler']\n",
    "    year = row['year']\n",
    "    extra_type = row['extra_type']\n",
    "    total_run = row['total_run']\n",
    "    extras_run = row['extras_run']\n",
    "    iswicket = 1 if row['iswicket_delivery'] == 1 and row['dismisal_kind'] in accepted else 0\n",
    "    if year not in bowler_stats:\n",
    "        bowler_stats[year] = {}\n",
    "    if bowler not in bowler_stats[year]:\n",
    "        bowler_stats[year][bowler] = {}\n",
    "        bowler_stats[year][bowler]['runs_conceeded'] = 0\n",
    "        bowler_stats[year][bowler]['balls_bowled'] = 0\n",
    "        bowler_stats[year][bowler]['wickets_taken'] = 0\n",
    "    bowler_stats[year][bowler]['runs_conceeded'] += total_run - extras_run if extra_type in ['byes','legbyes'] else total_run\n",
    "    bowler_stats[year][bowler]['balls_bowled'] += 1 if extra_type not in ['wides', 'noballs', 'penalty'] else 0\n",
    "    bowler_stats[year][bowler]['wickets_taken'] += iswicket"
   ]
  },
  {
   "cell_type": "code",
   "execution_count": 100,
   "metadata": {},
   "outputs": [],
   "source": [
    "for year in bowler_stats:\n",
    "    for player in bowler_stats[year]:\n",
    "        bowler_stats[year][player]['economy'] = bowler_stats[year][player]['runs_conceeded'] * 6 / bowler_stats[year][player]['balls_bowled']"
   ]
  },
  {
   "cell_type": "code",
   "execution_count": 102,
   "metadata": {},
   "outputs": [],
   "source": [
    "file = '../data/player_stats/bowler_metrics.pkl'\n",
    "with open(file,'wb') as bmf:\n",
    "    pickle.dump(bowler_stats, bmf)"
   ]
  },
  {
   "cell_type": "code",
   "execution_count": 38,
   "metadata": {},
   "outputs": [
    {
     "data": {
      "text/html": [
       "<div>\n",
       "<style scoped>\n",
       "    .dataframe tbody tr th:only-of-type {\n",
       "        vertical-align: middle;\n",
       "    }\n",
       "\n",
       "    .dataframe tbody tr th {\n",
       "        vertical-align: top;\n",
       "    }\n",
       "\n",
       "    .dataframe thead th {\n",
       "        text-align: right;\n",
       "    }\n",
       "</style>\n",
       "<table border=\"1\" class=\"dataframe\">\n",
       "  <thead>\n",
       "    <tr style=\"text-align: right;\">\n",
       "      <th></th>\n",
       "      <th>fielders_involved</th>\n",
       "      <th>year</th>\n",
       "      <th>innings</th>\n",
       "    </tr>\n",
       "  </thead>\n",
       "  <tbody>\n",
       "    <tr>\n",
       "      <th>0</th>\n",
       "      <td>A Ashish Reddy</td>\n",
       "      <td>2012</td>\n",
       "      <td>1</td>\n",
       "    </tr>\n",
       "    <tr>\n",
       "      <th>1</th>\n",
       "      <td>A Ashish Reddy</td>\n",
       "      <td>2013</td>\n",
       "      <td>6</td>\n",
       "    </tr>\n",
       "    <tr>\n",
       "      <th>2</th>\n",
       "      <td>A Ashish Reddy</td>\n",
       "      <td>2015</td>\n",
       "      <td>2</td>\n",
       "    </tr>\n",
       "    <tr>\n",
       "      <th>3</th>\n",
       "      <td>A Ashish Reddy</td>\n",
       "      <td>2016</td>\n",
       "      <td>1</td>\n",
       "    </tr>\n",
       "    <tr>\n",
       "      <th>4</th>\n",
       "      <td>A Badoni</td>\n",
       "      <td>2022</td>\n",
       "      <td>9</td>\n",
       "    </tr>\n",
       "    <tr>\n",
       "      <th>...</th>\n",
       "      <td>...</td>\n",
       "      <td>...</td>\n",
       "      <td>...</td>\n",
       "    </tr>\n",
       "    <tr>\n",
       "      <th>1960</th>\n",
       "      <td>Z Khan</td>\n",
       "      <td>2010</td>\n",
       "      <td>4</td>\n",
       "    </tr>\n",
       "    <tr>\n",
       "      <th>1961</th>\n",
       "      <td>Z Khan</td>\n",
       "      <td>2011</td>\n",
       "      <td>4</td>\n",
       "    </tr>\n",
       "    <tr>\n",
       "      <th>1962</th>\n",
       "      <td>Z Khan</td>\n",
       "      <td>2012</td>\n",
       "      <td>5</td>\n",
       "    </tr>\n",
       "    <tr>\n",
       "      <th>1963</th>\n",
       "      <td>Z Khan</td>\n",
       "      <td>2016</td>\n",
       "      <td>3</td>\n",
       "    </tr>\n",
       "    <tr>\n",
       "      <th>1964</th>\n",
       "      <td>Z Khan</td>\n",
       "      <td>2017</td>\n",
       "      <td>4</td>\n",
       "    </tr>\n",
       "  </tbody>\n",
       "</table>\n",
       "<p>1965 rows × 3 columns</p>\n",
       "</div>"
      ],
      "text/plain": [
       "     fielders_involved  year  innings\n",
       "0       A Ashish Reddy  2012        1\n",
       "1       A Ashish Reddy  2013        6\n",
       "2       A Ashish Reddy  2015        2\n",
       "3       A Ashish Reddy  2016        1\n",
       "4             A Badoni  2022        9\n",
       "...                ...   ...      ...\n",
       "1960            Z Khan  2010        4\n",
       "1961            Z Khan  2011        4\n",
       "1962            Z Khan  2012        5\n",
       "1963            Z Khan  2016        3\n",
       "1964            Z Khan  2017        4\n",
       "\n",
       "[1965 rows x 3 columns]"
      ]
     },
     "execution_count": 38,
     "metadata": {},
     "output_type": "execute_result"
    }
   ],
   "source": [
    "df = ball2ball.dropna(subset = 'fielders_involved')\n",
    "df = df.groupby(['fielders_involved','year'])['innings'].count().reset_index()"
   ]
  },
  {
   "cell_type": "code",
   "execution_count": 119,
   "metadata": {},
   "outputs": [
    {
     "name": "stdout",
     "output_type": "stream",
     "text": [
      "{'2022': {'Rajasthan Royals': {'wins': 10, 'losses': 7}, 'Gujarat Titans': {'wins': 12, 'losses': 4}, 'Royal Challengers Bangalore': {'wins': 9, 'losses': 7}, 'Lucknow Super Giants': {'wins': 9, 'losses': 6}, 'Sunrisers Hyderabad': {'wins': 6, 'losses': 8}, 'Punjab Kings': {'wins': 7, 'losses': 7}, 'Delhi Capitals': {'wins': 7, 'losses': 7}, 'Mumbai Indians': {'wins': 4, 'losses': 10}, 'Chennai Super Kings': {'wins': 4, 'losses': 10}, 'Kolkata Knight Riders': {'wins': 6, 'losses': 8}}, '2021': {'Chennai Super Kings': {'wins': 11, 'losses': 5}, 'Kolkata Knight Riders': {'wins': 9, 'losses': 8}, 'Delhi Capitals': {'wins': 10, 'losses': 6}, 'Royal Challengers Bangalore': {'wins': 9, 'losses': 6}, 'Mumbai Indians': {'wins': 7, 'losses': 7}, 'Sunrisers Hyderabad': {'wins': 3, 'losses': 11}, 'Rajasthan Royals': {'wins': 5, 'losses': 9}, 'Punjab Kings': {'wins': 6, 'losses': 8}}, '2020/21': {'Delhi Capitals': {'wins': 9, 'losses': 8}, 'Mumbai Indians': {'wins': 11, 'losses': 5}, 'Sunrisers Hyderabad': {'wins': 8, 'losses': 8}, 'Royal Challengers Bangalore': {'wins': 7, 'losses': 8}, 'Kolkata Knight Riders': {'wins': 7, 'losses': 7}, 'Rajasthan Royals': {'wins': 6, 'losses': 8}, 'Kings XI Punjab': {'wins': 6, 'losses': 8}, 'Chennai Super Kings': {'wins': 6, 'losses': 8}}, '2019': {'Mumbai Indians': {'wins': 11, 'losses': 5}, 'Chennai Super Kings': {'wins': 10, 'losses': 7}, 'Delhi Capitals': {'wins': 10, 'losses': 6}, 'Sunrisers Hyderabad': {'wins': 6, 'losses': 9}, 'Kings XI Punjab': {'wins': 6, 'losses': 8}, 'Kolkata Knight Riders': {'wins': 6, 'losses': 8}, 'Royal Challengers Bangalore': {'wins': 5, 'losses': 9}, 'Rajasthan Royals': {'wins': 5, 'losses': 9}}, '2018': {'Sunrisers Hyderabad': {'wins': 10, 'losses': 7}, 'Chennai Super Kings': {'wins': 11, 'losses': 5}, 'Kolkata Knight Riders': {'wins': 9, 'losses': 7}, 'Rajasthan Royals': {'wins': 7, 'losses': 8}, 'Kings XI Punjab': {'wins': 6, 'losses': 8}, 'Delhi Daredevils': {'wins': 5, 'losses': 9}, 'Mumbai Indians': {'wins': 6, 'losses': 8}, 'Royal Challengers Bangalore': {'wins': 6, 'losses': 8}}, '2017': {'Mumbai Indians': {'wins': 12, 'losses': 5}, 'Rising Pune Supergiant': {'wins': 10, 'losses': 6}, 'Kolkata Knight Riders': {'wins': 9, 'losses': 7}, 'Sunrisers Hyderabad': {'wins': 8, 'losses': 6}, 'Delhi Daredevils': {'wins': 6, 'losses': 8}, 'Royal Challengers Bangalore': {'wins': 3, 'losses': 10}, 'Kings XI Punjab': {'wins': 7, 'losses': 7}, 'Gujarat Lions': {'wins': 4, 'losses': 10}}, '2016': {'Royal Challengers Bangalore': {'wins': 9, 'losses': 7}, 'Sunrisers Hyderabad': {'wins': 11, 'losses': 6}, 'Gujarat Lions': {'wins': 9, 'losses': 7}, 'Kolkata Knight Riders': {'wins': 8, 'losses': 7}, 'Delhi Daredevils': {'wins': 7, 'losses': 7}, 'Mumbai Indians': {'wins': 7, 'losses': 7}, 'Rising Pune Supergiants': {'wins': 5, 'losses': 9}, 'Kings XI Punjab': {'wins': 4, 'losses': 10}}, '2015': {'Mumbai Indians': {'wins': 10, 'losses': 6}, 'Chennai Super Kings': {'wins': 10, 'losses': 7}, 'Royal Challengers Bangalore': {'wins': 8, 'losses': 8}, 'Rajasthan Royals': {'wins': 7, 'losses': 7}, 'Delhi Daredevils': {'wins': 5, 'losses': 9}, 'Sunrisers Hyderabad': {'wins': 7, 'losses': 7}, 'Kolkata Knight Riders': {'wins': 7, 'losses': 6}, 'Kings XI Punjab': {'wins': 3, 'losses': 11}}, '2014': {'Kolkata Knight Riders': {'wins': 11, 'losses': 5}, 'Kings XI Punjab': {'wins': 12, 'losses': 5}, 'Chennai Super Kings': {'wins': 10, 'losses': 6}, 'Mumbai Indians': {'wins': 7, 'losses': 8}, 'Rajasthan Royals': {'wins': 7, 'losses': 7}, 'Delhi Daredevils': {'wins': 2, 'losses': 12}, 'Royal Challengers Bangalore': {'wins': 5, 'losses': 9}, 'Sunrisers Hyderabad': {'wins': 6, 'losses': 8}}, '2013': {'Chennai Super Kings': {'wins': 12, 'losses': 6}, 'Mumbai Indians': {'wins': 13, 'losses': 6}, 'Rajasthan Royals': {'wins': 11, 'losses': 7}, 'Sunrisers Hyderabad': {'wins': 10, 'losses': 7}, 'Kolkata Knight Riders': {'wins': 6, 'losses': 10}, 'Pune Warriors': {'wins': 4, 'losses': 12}, 'Delhi Daredevils': {'wins': 3, 'losses': 13}, 'Royal Challengers Bangalore': {'wins': 9, 'losses': 7}, 'Kings XI Punjab': {'wins': 8, 'losses': 8}}, '2012': {'Kolkata Knight Riders': {'wins': 12, 'losses': 5}, 'Chennai Super Kings': {'wins': 10, 'losses': 8}, 'Delhi Daredevils': {'wins': 11, 'losses': 7}, 'Mumbai Indians': {'wins': 10, 'losses': 7}, 'Rajasthan Royals': {'wins': 7, 'losses': 9}, 'Deccan Chargers': {'wins': 4, 'losses': 11}, 'Royal Challengers Bangalore': {'wins': 8, 'losses': 7}, 'Pune Warriors': {'wins': 4, 'losses': 12}, 'Kings XI Punjab': {'wins': 8, 'losses': 8}}, '2011': {'Chennai Super Kings': {'wins': 11, 'losses': 5}, 'Royal Challengers Bangalore': {'wins': 10, 'losses': 6}, 'Mumbai Indians': {'wins': 10, 'losses': 6}, 'Kolkata Knight Riders': {'wins': 8, 'losses': 7}, 'Delhi Daredevils': {'wins': 4, 'losses': 10}, 'Pune Warriors': {'wins': 4, 'losses': 10}, 'Kings XI Punjab': {'wins': 7, 'losses': 7}, 'Deccan Chargers': {'wins': 6, 'losses': 8}, 'Rajasthan Royals': {'wins': 6, 'losses': 7}, 'Kochi Tuskers Kerala': {'wins': 6, 'losses': 8}}, '2009/10': {'Chennai Super Kings': {'wins': 9, 'losses': 7}, 'Mumbai Indians': {'wins': 11, 'losses': 5}, 'Royal Challengers Bangalore': {'wins': 8, 'losses': 8}, 'Deccan Chargers': {'wins': 8, 'losses': 8}, 'Kolkata Knight Riders': {'wins': 7, 'losses': 7}, 'Delhi Daredevils': {'wins': 7, 'losses': 7}, 'Kings XI Punjab': {'wins': 4, 'losses': 10}, 'Rajasthan Royals': {'wins': 6, 'losses': 8}}, '2009': {'Royal Challengers Bangalore': {'wins': 9, 'losses': 7}, 'Deccan Chargers': {'wins': 9, 'losses': 7}, 'Chennai Super Kings': {'wins': 8, 'losses': 6}, 'Delhi Daredevils': {'wins': 10, 'losses': 5}, 'Mumbai Indians': {'wins': 5, 'losses': 8}, 'Kings XI Punjab': {'wins': 7, 'losses': 7}, 'Kolkata Knight Riders': {'wins': 3, 'losses': 10}, 'Rajasthan Royals': {'wins': 6, 'losses': 7}}, '2007/08': {'Chennai Super Kings': {'wins': 9, 'losses': 7}, 'Rajasthan Royals': {'wins': 13, 'losses': 3}, 'Kings XI Punjab': {'wins': 10, 'losses': 5}, 'Delhi Daredevils': {'wins': 7, 'losses': 7}, 'Royal Challengers Bangalore': {'wins': 4, 'losses': 10}, 'Mumbai Indians': {'wins': 7, 'losses': 7}, 'Deccan Chargers': {'wins': 2, 'losses': 12}, 'Kolkata Knight Riders': {'wins': 6, 'losses': 7}}}\n"
     ]
    }
   ],
   "source": [
    "\"\"\"\n",
    "metrics to capture for teams every year\n",
    "wins, loss, boundaries (4/6), runs, wickets\n",
    "metrics to capture over all years\n",
    "championships, playoffs\n",
    "\"\"\"\n",
    "with open('../data/team_stats/winloss.pkl', 'rb') as wl :\n",
    "    d = pickle.load(wl)\n",
    "    print(d)\n",
    "\n"
   ]
  },
  {
   "cell_type": "code",
   "execution_count": 125,
   "metadata": {},
   "outputs": [],
   "source": [
    "nd = {}\n",
    "nk = 2008\n",
    "for key in d:\n",
    "    nd[nk] = d[key]\n",
    "    nk += 1\n",
    "with open('../data/team_stats/winloss.pkl', 'wb') as wl:\n",
    "    pickle.dump(nd, wl)"
   ]
  },
  {
   "cell_type": "code",
   "execution_count": 126,
   "metadata": {},
   "outputs": [
    {
     "data": {
      "text/plain": [
       "17"
      ]
     },
     "execution_count": 126,
     "metadata": {},
     "output_type": "execute_result"
    }
   ],
   "source": [
    "x ={'Mumbai Indians': [0, 75, 160],\n",
    " 'Chennai Super Kings': [255, 255, 60],\n",
    "  'Kolkata Knight Riders': [46, 8, 84],\n",
    "   'Sunrisers Hyderabad': [255, 130, 42],\n",
    "    'Rajasthan Royals': [255, 192, 203],\n",
    "     'Royal Challengers Bangalore': [236, 28, 36], \n",
    "     'Delhi Capitals': [0, 0, 139],\n",
    "      'Punjab Kings': [220, 221, 223],\n",
    "      'Gujarat Titans': [27, 33, 51],\n",
    "       'Lucknow Super Giants': [129, 188, 100],\n",
    "        'Kings XI Punjab': [220, 221, 223],\n",
    "         'Delhi Daredevils': [0, 0, 139],\n",
    "          'Rising Pune Supergiant': [158, 52, 149],\n",
    "           'Pune Warriors': [0, 0, 0],\n",
    "            'Deccan Chargers': [100, 136, 180],\n",
    "             'Kochi Tuskers Kerala': (128, 0, 128),\n",
    "              'Gujarat Lions': (255, 165, 0)}\n",
    "# with open('../data/team_stats/team_colors.pkl', 'wb') as wl :\n",
    "#     pickle.dump(x, wl)\n",
    "len(x)"
   ]
  },
  {
   "cell_type": "code",
   "execution_count": 127,
   "metadata": {},
   "outputs": [
    {
     "name": "stdout",
     "output_type": "stream",
     "text": [
      "{'Mumbai Indians': {'championships': 5, 'playoff_appearances': 9}, 'Chennai Super Kings': {'championships': 4, 'playoff_appearances': 11}, 'Kolkata Knight Riders': {'championships': 2, 'playoff_appearances': 7}, 'Sunrisers Hyderabad': {'championships': 1, 'playoff_appearances': 6}, 'Rajasthan Royals': {'championships': 1, 'playoff_appearances': 5}, 'Deccan Chargers': {'championships': 1, 'playoff_appearances': 2}, 'Gujarat Titans': {'championships': 1, 'playoff_appearances': 1}, 'Royal Challengers Bangalore': {'championships': 0, 'playoff_appearances': 8}, 'Delhi Capitals': {'championships': 0, 'playoff_appearances': 3}, 'Delhi Daredevils': {'championships': 0, 'playoff_appearances': 3}, 'Kings XI Punjab': {'championships': 0, 'playoff_appearances': 2}, 'Lucknow Super Giants': {'championships': 0, 'playoff_appearances': 1}, 'Rising Pune Supergiant': {'championships': 0, 'playoff_appearances': 1}, 'Gujarat Lions': {'championships': 0, 'playoff_appearances': 1}, 'Punjab Kings': {'championships': 0, 'playoff_appearances': 0}, 'Rising Pune Supergiants': {'championships': 0, 'playoff_appearances': 0}, 'Pune Warriors': {'championships': 0, 'playoff_appearances': 0}, 'Kochi Tuskers Kerala': {'championships': 0, 'playoff_appearances': 0}}\n"
     ]
    }
   ],
   "source": [
    "with open('../data/team_stats/championships.pkl', 'rb') as wl :\n",
    "    d = pickle.load(wl)\n",
    "    print(d)"
   ]
  },
  {
   "cell_type": "code",
   "execution_count": 130,
   "metadata": {},
   "outputs": [],
   "source": [
    "x = {'Mumbai Indians': {'championships': 5, 'playoff_appearances': 9},\n",
    " 'Chennai Super Kings': {'championships': 4, 'playoff_appearances': 11},\n",
    "  'Kolkata Knight Riders': {'championships': 2, 'playoff_appearances': 7},\n",
    "   'Sunrisers Hyderabad': {'championships': 1, 'playoff_appearances': 6},\n",
    "    'Rajasthan Royals': {'championships': 1, 'playoff_appearances': 5},\n",
    "     'Deccan Chargers': {'championships': 1, 'playoff_appearances': 2},\n",
    "      'Gujarat Titans': {'championships': 1, 'playoff_appearances': 1},\n",
    "       'Royal Challengers Bangalore': {'championships': 0, 'playoff_appearances': 8},\n",
    "        'Delhi Capitals': {'championships': 0, 'playoff_appearances': 3},\n",
    "         'Delhi Daredevils': {'championships': 0, 'playoff_appearances': 3},\n",
    "          'Kings XI Punjab': {'championships': 0, 'playoff_appearances': 2},\n",
    "           'Lucknow Super Giants': {'championships': 0, 'playoff_appearances': 1},\n",
    "            'Rising Pune Supergiant': {'championships': 0, 'playoff_appearances': 1},\n",
    "             'Gujarat Lions': {'championships': 0, 'playoff_appearances': 1},\n",
    "                'Pune Warriors': {'championships': 0, 'playoff_appearances': 0}, \n",
    "                'Kochi Tuskers Kerala': {'championships': 0, 'playoff_appearances': 0}}\n",
    "\n",
    "with open('../data/team_stats/championships.pkl', 'wb') as ch :\n",
    "    pickle.dump(x, ch)"
   ]
  }
 ],
 "metadata": {
  "kernelspec": {
   "display_name": "base",
   "language": "python",
   "name": "python3"
  },
  "language_info": {
   "codemirror_mode": {
    "name": "ipython",
    "version": 3
   },
   "file_extension": ".py",
   "mimetype": "text/x-python",
   "name": "python",
   "nbconvert_exporter": "python",
   "pygments_lexer": "ipython3",
   "version": "3.9.12"
  }
 },
 "nbformat": 4,
 "nbformat_minor": 2
}
